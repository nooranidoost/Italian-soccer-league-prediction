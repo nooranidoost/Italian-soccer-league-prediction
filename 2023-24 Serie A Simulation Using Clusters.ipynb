{
 "cells": [
  {
   "cell_type": "markdown",
   "id": "9ee2923b",
   "metadata": {},
   "source": [
    "I had to import the proper libraries for this model"
   ]
  },
  {
   "cell_type": "code",
   "execution_count": 448,
   "id": "35563ae5",
   "metadata": {},
   "outputs": [],
   "source": [
    "import pandas as pd\n",
    "import matplotlib.pyplot as plt\n",
    "import numpy as np\n",
    "import random\n",
    "import numpy as np\n",
    "from scipy.stats import poisson,skellam\n",
    "import statsmodels.api as sm\n",
    "import statsmodels.formula.api as smf"
   ]
  },
  {
   "cell_type": "markdown",
   "id": "f8093416",
   "metadata": {},
   "source": [
    "Group A:Roma, Lazio, Milan, Inter, Juve, Atalanta, Napoli\n",
    "Group B:Everyone else"
   ]
  },
  {
   "cell_type": "markdown",
   "id": "0f671faa",
   "metadata": {},
   "source": [
    "I am reading in the CSV file for the Group A vs. Group A Cluster Averages"
   ]
  },
  {
   "cell_type": "code",
   "execution_count": 449,
   "id": "28ad90e7",
   "metadata": {},
   "outputs": [],
   "source": [
    "seriea_AVA = pd.read_csv(\"Group-A-v-Group-A-Cluster-Averages.csv\")\n",
    "seriea_AVA = seriea_AVA[['HomeTeam','AwayTeam','FTHG','FTAG']]\n",
    "seriea_AVA = seriea_AVA.rename(columns={'FTHG': 'HomeGoals', 'FTAG': 'AwayGoals'})"
   ]
  },
  {
   "cell_type": "code",
   "execution_count": 450,
   "id": "c4c730c0",
   "metadata": {},
   "outputs": [],
   "source": [
    "goal_model_data = pd.concat([seriea_AVA[['HomeTeam','AwayTeam','HomeGoals']].assign(home=1).rename(\n",
    "            columns={'HomeTeam':'team', 'AwayTeam':'opponent','HomeGoals':'goals'}),\n",
    "           seriea_AVA[['AwayTeam','HomeTeam','AwayGoals']].assign(home=0).rename(\n",
    "            columns={'AwayTeam':'team', 'HomeTeam':'opponent','AwayGoals':'goals'})])\n",
    "\n",
    "poisson_model = smf.glm(formula=\"goals ~ home + team + opponent\", data=goal_model_data, \n",
    "                        family=sm.families.Poisson()).fit()\n",
    "\n",
    "def simulate_match(foot_model, homeTeam, awayTeam, max_goals=10):\n",
    "    home_goals_avg = foot_model.predict(pd.DataFrame(data={'team': homeTeam, \n",
    "                                                            'opponent': awayTeam,'home':1},\n",
    "                                                      index=[1])).values[0]\n",
    "    away_goals_avg = foot_model.predict(pd.DataFrame(data={'team': awayTeam, \n",
    "                                                            'opponent': homeTeam,'home':0},\n",
    "                                                      index=[1])).values[0]\n",
    "    team_pred = [[poisson.pmf(i, team_avg) for i in range(0, max_goals+1)] for team_avg in [home_goals_avg, away_goals_avg]]\n",
    "    return(np.outer(np.array(team_pred[0]), np.array(team_pred[1])))"
   ]
  },
  {
   "cell_type": "markdown",
   "id": "2e9c63c8",
   "metadata": {},
   "source": [
    "I am initiliazing all of the variables that I need for the code"
   ]
  },
  {
   "cell_type": "code",
   "execution_count": 451,
   "id": "b2bf0637",
   "metadata": {},
   "outputs": [],
   "source": [
    "AtalantapointsAA=0\n",
    "InterpointsAA=0\n",
    "JuventuspointsAA=0\n",
    "LaziopointsAA=0\n",
    "MilanpointsAA=0\n",
    "NapolipointsAA=0\n",
    "RomapointsAA=0\n",
    "\n",
    "Atalantagames=0\n",
    "Intergames=0\n",
    "Juventusgames=0\n",
    "Laziogames=0\n",
    "Milangames=0\n",
    "Napoligames=0\n",
    "Romagames=0\n",
    "\n",
    "SerieAteams=['Atalanta','Inter Milan','Juventus','Lazio','AC Milan','Napoli','Roma']\n",
    "SerieApoints=[AtalantapointsAA,InterpointsAA,JuventuspointsAA,\n",
    "              LaziopointsAA,MilanpointsAA,NapolipointsAA,RomapointsAA]\n",
    "SerieAgames=[Atalantagames,Intergames,Juventusgames,Laziogames,Milangames,Napoligames,Romagames]\n",
    "for i in range(0,7):\n",
    "    for j in range(0,7):\n",
    "        if (i!=j):\n",
    "            matchvalue=random.uniform(0,1)\n",
    "            matchsim = simulate_match(poisson_model, SerieAteams[i], SerieAteams[j], max_goals=10)\n",
    "            homewinpercent = np.sum(np.tril(matchsim, -1))\n",
    "            drawpercent=np.sum(np.diag(matchsim))\n",
    "            awaywinpercent=np.sum(np.triu(matchsim, 1))\n",
    "            secondbound=homewinpercent+drawpercent\n",
    "            if matchvalue<homewinpercent:\n",
    "                SerieApoints[i]+=3\n",
    "                SerieAgames[i]+=1\n",
    "                SerieAgames[j]+=1\n",
    "            elif matchvalue<secondbound:\n",
    "                SerieApoints[i]+=1\n",
    "                SerieApoints[j]+=1\n",
    "                SerieAgames[i]+=1\n",
    "                SerieAgames[j]+=1\n",
    "            else:\n",
    "                SerieApoints[j]+=3\n",
    "                SerieAgames[i]+=1\n",
    "                SerieAgames[j]+=1\n",
    "            AtalantapointsAA=SerieApoints[0]\n",
    "            InterpointsAA=SerieApoints[1]\n",
    "            JuventuspointsAA=SerieApoints[2]\n",
    "            LaziopointsAA=SerieApoints[3]\n",
    "            MilanpointsAA=SerieApoints[4]\n",
    "            NapolipointsAA=SerieApoints[5]\n",
    "            RomapointsAA=SerieApoints[6]\n",
    "            \n",
    "            Atalantagames=SerieAgames[0]\n",
    "            Intergames=SerieAgames[1]\n",
    "            Juventusgames=SerieAgames[2]\n",
    "            Laziogames=SerieAgames[3]\n",
    "            Milangames=SerieAgames[4]\n",
    "            Napoligames=SerieAgames[5]\n",
    "            Romagames=SerieAgames[6]\n",
    "            \n",
    "            SerieAstandingpointsAA=[AtalantapointsAA,\n",
    "                    InterpointsAA,JuventuspointsAA,LaziopointsAA,MilanpointsAA,NapolipointsAA,RomapointsAA]\n",
    "            SerieAstandingteamsAA=['Atalanta','Inter Milan','Juventus','Lazio','AC Milan',\n",
    "                                 'Napoli','Roma']\n",
    "            SerieAstandinggames=[Atalantagames,Intergames,Juventusgames,Laziogames,Milangames,Napoligames,Romagames]"
   ]
  },
  {
   "cell_type": "code",
   "execution_count": 452,
   "id": "3d2a126e",
   "metadata": {},
   "outputs": [
    {
     "name": "stdout",
     "output_type": "stream",
     "text": [
      "[17, 14, 10, 13, 23, 22, 16]\n",
      "[12, 12, 12, 12, 12, 12, 12]\n"
     ]
    }
   ],
   "source": [
    "print(SerieAstandingpointsAA)\n",
    "print(SerieAstandinggames)"
   ]
  },
  {
   "cell_type": "markdown",
   "id": "45b8127d",
   "metadata": {},
   "source": [
    "Above, I am checking to see that each team in this group played 12 games each. Each team in Group A plays each other home \n",
    "and away (2X6)=12 which means that each team in Group A plays 12 games against each other."
   ]
  },
  {
   "cell_type": "code",
   "execution_count": 453,
   "id": "dc52b210",
   "metadata": {},
   "outputs": [],
   "source": [
    "BolognapointsAA=0\n",
    "EmpolipointsAA=0\n",
    "FiorentinapointsAA=0\n",
    "VeronapointsAA=0\n",
    "SalernitanapointsAA=0\n",
    "FrosinonepointsAA=0\n",
    "SassuolopointsAA=0\n",
    "CagliaripointsAA=0\n",
    "TorinopointsAA=0\n",
    "UdinesepointsAA=0\n",
    "GenoapointsAA=0\n",
    "LeccepointsAA=0\n",
    "MonzapointsAA=0\n",
    "\n",
    "SerieAstandingpointsAA2=[BolognapointsAA,EmpolipointsAA,FiorentinapointsAA,VeronapointsAA,SalernitanapointsAA,\n",
    "                         FrosinonepointsAA,SassuolopointsAA,CagliaripointsAA,TorinopointsAA,UdinesepointsAA,\n",
    "                         GenoapointsAA,LeccepointsAA,MonzapointsAA]\n",
    "SerieAstandingpointsAA_first=SerieAstandingpointsAA+SerieAstandingpointsAA2\n",
    "SerieAstandingteamsAA2=['Bologna','Empoli','Fiorentina','Verona','Salernitana','Frosinone','Sassuolo',\n",
    "                      'Cagliari','Torino','Udinese','Genoa','Lecce','Monza']\n",
    "SerieAstandingteamsAA_first=SerieAstandingteamsAA+SerieAstandingteamsAA2"
   ]
  },
  {
   "cell_type": "markdown",
   "id": "d1277c63",
   "metadata": {},
   "source": [
    "In order to add the three lists at the end, I added in each team to the list to make sure each list has 20 indices"
   ]
  },
  {
   "cell_type": "code",
   "execution_count": 454,
   "id": "34c796e7",
   "metadata": {},
   "outputs": [
    {
     "name": "stdout",
     "output_type": "stream",
     "text": [
      "[17, 14, 10, 13, 23, 22, 16, 0, 0, 0, 0, 0, 0, 0, 0, 0, 0, 0, 0, 0]\n"
     ]
    }
   ],
   "source": [
    "print(SerieAstandingpointsAA_first)"
   ]
  },
  {
   "cell_type": "markdown",
   "id": "a25e6148",
   "metadata": {},
   "source": [
    "Below I loaded in the data for the Group A vs. Group B matches"
   ]
  },
  {
   "cell_type": "code",
   "execution_count": 455,
   "id": "433a8530",
   "metadata": {},
   "outputs": [],
   "source": [
    "seriea_AVB = pd.read_csv(\"Group-A-v-Group-B-Cluster-Averages.csv\")\n",
    "seriea_AVB = seriea_AVB[['HomeTeam','AwayTeam','FTHG','FTAG']]\n",
    "seriea_AVB = seriea_AVB.rename(columns={'FTHG': 'HomeGoals', 'FTAG': 'AwayGoals'})"
   ]
  },
  {
   "cell_type": "code",
   "execution_count": 456,
   "id": "0acbb650",
   "metadata": {},
   "outputs": [],
   "source": [
    "goal_model_data = pd.concat([seriea_AVB[['HomeTeam','AwayTeam','HomeGoals']].assign(home=1).rename(\n",
    "            columns={'HomeTeam':'team', 'AwayTeam':'opponent','HomeGoals':'goals'}),\n",
    "           seriea_AVB[['AwayTeam','HomeTeam','AwayGoals']].assign(home=0).rename(\n",
    "            columns={'AwayTeam':'team', 'HomeTeam':'opponent','AwayGoals':'goals'})])\n",
    "\n",
    "poisson_model = smf.glm(formula=\"goals ~ home + team + opponent\", data=goal_model_data, \n",
    "                        family=sm.families.Poisson()).fit()\n",
    "\n",
    "def simulate_match(foot_model, homeTeam, awayTeam, max_goals=10):\n",
    "    home_goals_avg = foot_model.predict(pd.DataFrame(data={'team': homeTeam, \n",
    "                                                            'opponent': awayTeam,'home':1},\n",
    "                                                      index=[1])).values[0]\n",
    "    away_goals_avg = foot_model.predict(pd.DataFrame(data={'team': awayTeam, \n",
    "                                                            'opponent': homeTeam,'home':0},\n",
    "                                                      index=[1])).values[0]\n",
    "    team_pred = [[poisson.pmf(i, team_avg) for i in range(0, max_goals+1)] for team_avg in [home_goals_avg, away_goals_avg]]\n",
    "    return(np.outer(np.array(team_pred[0]), np.array(team_pred[1])))"
   ]
  },
  {
   "cell_type": "code",
   "execution_count": 457,
   "id": "da596e10",
   "metadata": {},
   "outputs": [],
   "source": [
    "AtalantapointsAB=0\n",
    "InterpointsAB=0\n",
    "JuventuspointsAB=0\n",
    "LaziopointsAB=0\n",
    "MilanpointsAB=0\n",
    "NapolipointsAB=0\n",
    "RomapointsAB=0\n",
    "BolognapointsAB=0\n",
    "EmpolipointsAB=0\n",
    "FiorentinapointsAB=0\n",
    "VeronapointsAB=0\n",
    "SalernitanapointsAB=0\n",
    "FrosinonepointsAB=0\n",
    "SassuolopointsAB=0\n",
    "CagliaripointsAB=0\n",
    "TorinopointsAB=0\n",
    "UdinesepointsAB=0\n",
    "GenoapointsAB=0\n",
    "LeccepointsAB=0\n",
    "MonzapointsAB=0\n",
    "\n",
    "Atalantagames=0\n",
    "Intergames=0\n",
    "Juventusgames=0\n",
    "Laziogames=0\n",
    "Milangames=0\n",
    "Napoligames=0\n",
    "Romagames=0\n",
    "Bolognagames=0\n",
    "Empoligames=0\n",
    "Fiorentinagames=0\n",
    "Veronagames=0\n",
    "Salernitanagames=0\n",
    "Frosinonegames=0\n",
    "Sassuologames=0\n",
    "Cagliarigames=0\n",
    "Torinogames=0\n",
    "Udinesegames=0\n",
    "Genoagames=0\n",
    "Leccegames=0\n",
    "Monzagames=0\n",
    "\n",
    "SerieAteams=['Atalanta','Inter Milan','Juventus','Lazio','AC Milan',\n",
    "            'Napoli','Roma','Bologna','Empoli','Fiorentina','Verona','Salernitana','Frosinone',\n",
    "             'Sassuolo','Cagliari','Torino','Udinese','Genoa','Lecce','Monza']\n",
    "SerieApoints=[AtalantapointsAB,InterpointsAB,JuventuspointsAB,LaziopointsAB,MilanpointsAB,NapolipointsAB,RomapointsAB,\n",
    "            BolognapointsAB,EmpolipointsAB,FiorentinapointsAB,VeronapointsAB,SalernitanapointsAB,FrosinonepointsAB,\n",
    "            SassuolopointsAB,CagliaripointsAB,TorinopointsAB,UdinesepointsAB,GenoapointsAB,LeccepointsAB,MonzapointsAB]\n",
    "SerieAgames=[Atalantagames,Intergames,Juventusgames,Laziogames,Milangames,Napoligames,Romagames,Bolognagames,Empoligames,             \n",
    "             Fiorentinagames,Veronagames,Salernitanagames,Frosinonegames,Sassuologames,Cagliarigames,Torinogames,\n",
    "             Udinesegames,Genoagames,Leccegames,Monzagames]\n",
    "for i in range(0,20):\n",
    "    for j in range(0,20):\n",
    "        if ((i!=j) and ((i<7 and j>6) or (i>6 and j<7))):\n",
    "            matchvalue=random.uniform(0,1)\n",
    "            matchsim = simulate_match(poisson_model, SerieAteams[i], SerieAteams[j], max_goals=10)\n",
    "            homewinpercent = np.sum(np.tril(matchsim, -1))\n",
    "            drawpercent=np.sum(np.diag(matchsim))\n",
    "            awaywinpercent=np.sum(np.triu(matchsim, 1))\n",
    "            secondbound=homewinpercent+drawpercent\n",
    "            if matchvalue<homewinpercent:\n",
    "                SerieApoints[i]+=3\n",
    "                SerieAgames[i]+=1\n",
    "                SerieAgames[j]+=1\n",
    "            elif matchvalue<secondbound:\n",
    "                SerieApoints[i]+=1\n",
    "                SerieApoints[j]+=1\n",
    "                SerieAgames[i]+=1\n",
    "                SerieAgames[j]+=1\n",
    "            else:\n",
    "                SerieApoints[j]+=3\n",
    "                SerieAgames[i]+=1\n",
    "                SerieAgames[j]+=1\n",
    "            AtalantapointsAB=SerieApoints[0]\n",
    "            InterpointsAB=SerieApoints[1]\n",
    "            JuventuspointsAB=SerieApoints[2]\n",
    "            LaziopointsAB=SerieApoints[3]\n",
    "            MilanpointsAB=SerieApoints[4]\n",
    "            NapolipointsAB=SerieApoints[5]\n",
    "            RomapointsAB=SerieApoints[6]\n",
    "            BolognapointsAB=SerieApoints[7]\n",
    "            EmpolipointsAB=SerieApoints[8]\n",
    "            FiorentinapointsAB=SerieApoints[9]\n",
    "            VeronapointsAB=SerieApoints[10]\n",
    "            SalernitanapointsAB=SerieApoints[11]\n",
    "            FrosinonepointsAB=SerieApoints[12]\n",
    "            SassuolopointsAB=SerieApoints[13]\n",
    "            CagliaripointsAB=SerieApoints[14]\n",
    "            TorinopointsAB=SerieApoints[15]\n",
    "            UdinesepointsAB=SerieApoints[16]\n",
    "            GenoapointsAB=SerieApoints[17]\n",
    "            LeccepointsAB=SerieApoints[18]\n",
    "            MonzapointsAB=SerieApoints[19]\n",
    "            \n",
    "            Atalantagames=SerieAgames[0]\n",
    "            Intergames=SerieAgames[1]\n",
    "            Juventusgames=SerieAgames[2]\n",
    "            Laziogames=SerieAgames[3]\n",
    "            Milangames=SerieAgames[4]\n",
    "            Napoligames=SerieAgames[5]\n",
    "            Romagames=SerieAgames[6]\n",
    "            Bolognagames=SerieAgames[7]\n",
    "            Empoligames=SerieAgames[8]\n",
    "            Fiorentinagames=SerieAgames[9]\n",
    "            Veronagames=SerieAgames[10]\n",
    "            Salernitanagames=SerieAgames[11]\n",
    "            Frosinonegames=SerieAgames[12]\n",
    "            Sassuologames=SerieAgames[13]\n",
    "            Cagliarigames=SerieAgames[14]\n",
    "            Torinogames=SerieAgames[15]\n",
    "            Udinesegames=SerieAgames[16]\n",
    "            Genoagames=SerieAgames[17]\n",
    "            Leccegames=SerieAgames[18]\n",
    "            Monzagames=SerieAgames[19]\n",
    "            \n",
    "            SerieAstandingpointsAB=[AtalantapointsAB,\n",
    "                    InterpointsAB,JuventuspointsAB,LaziopointsAB,MilanpointsAB,NapolipointsAB,RomapointsAB,\n",
    "                    BolognapointsAB,EmpolipointsAB,FiorentinapointsAB,VeronapointsAB,SalernitanapointsAB,FrosinonepointsAB,\n",
    "                    SassuolopointsAB,CagliaripointsAB,TorinopointsAB,UdinesepointsAB,GenoapointsAB,LeccepointsAB,\n",
    "                    MonzapointsAB]\n",
    "            SerieAstandingteamsAB=['Atalanta','Inter Milan','Juventus','Lazio','AC Milan',\n",
    "                                 'Napoli','Roma','Bologna','Empoli','Fiorentina','Verona','Salernitana','Frosinone'\n",
    "                                   ,'Sassuolo','Cagliari','Torino','Udinese','Genoa','Lecce','Monza']\n",
    "            SerieAstandinggames=[Atalantagames,Intergames,Juventusgames,Laziogames,Milangames,Napoligames,Romagames,Bolognagames,Empoligames,             \n",
    "             Fiorentinagames,Veronagames,Salernitanagames,Frosinonegames,Sassuologames,Cagliarigames,Torinogames,\n",
    "             Udinesegames,Genoagames,Leccegames,Monzagames]"
   ]
  },
  {
   "cell_type": "code",
   "execution_count": 458,
   "id": "f6dd3db2",
   "metadata": {},
   "outputs": [
    {
     "name": "stdout",
     "output_type": "stream",
     "text": [
      "[26, 26, 26, 26, 26, 26, 26, 14, 14, 14, 14, 14, 14, 14, 14, 14, 14, 14, 14, 14]\n"
     ]
    }
   ],
   "source": [
    "print(SerieAstandinggames)"
   ]
  },
  {
   "cell_type": "markdown",
   "id": "355a5ded",
   "metadata": {},
   "source": [
    "The first 7 teams in this list are Group A teams. The second 13 teams in this list are Group B teams. Each Group A team \n",
    "plays each Group B team home and away, so the play (2X13)=26 games. Each Group B team in this case plays each Group A team\n",
    "home and away, which means that they play (2X7)=14 games against teams in group A."
   ]
  },
  {
   "cell_type": "code",
   "execution_count": 459,
   "id": "2edb61ee",
   "metadata": {},
   "outputs": [
    {
     "name": "stdout",
     "output_type": "stream",
     "text": [
      "[55, 67, 58, 51, 56, 66, 46, 11, 8, 11, 10, 7, 8, 11, 10, 4, 6, 5, 3, 20]\n"
     ]
    }
   ],
   "source": [
    "print(SerieAstandingpointsAB)"
   ]
  },
  {
   "cell_type": "code",
   "execution_count": 460,
   "id": "231067b2",
   "metadata": {},
   "outputs": [
    {
     "name": "stdout",
     "output_type": "stream",
     "text": [
      "[67, 66, 58, 56, 55, 51, 46, 20, 11, 11, 11, 10, 10, 8, 8, 7, 6, 5, 4, 3]\n",
      "['Inter Milan', 'Napoli', 'Juventus', 'AC Milan', 'Atalanta', 'Lazio', 'Roma', 'Monza', 'Sassuolo', 'Fiorentina', 'Bologna', 'Verona', 'Cagliari', 'Frosinone', 'Empoli', 'Salernitana', 'Udinese', 'Genoa', 'Torino', 'Lecce']\n"
     ]
    }
   ],
   "source": [
    "SerieAstandingpointsAB_second=SerieAstandingpointsAB\n",
    "\n",
    "SerieAstandingpointsAB, SerieAstandingteamsAB = zip(*sorted(zip(SerieAstandingpointsAB, SerieAstandingteamsAB)))\n",
    "SerieAstandingpointsAB, SerieAstandingteamsAB = zip(*sorted(zip(SerieAstandingpointsAB, SerieAstandingteamsAB)))\n",
    "result1=list(reversed(SerieAstandingpointsAB))\n",
    "result2=list(reversed(SerieAstandingteamsAB))\n",
    "MaxValue=max(SerieAstandingpointsAB)\n",
    "print(result1)\n",
    "print(result2)"
   ]
  },
  {
   "cell_type": "markdown",
   "id": "164f8502",
   "metadata": {},
   "source": [
    "Here I downloaded the Group B vs. Group B data"
   ]
  },
  {
   "cell_type": "code",
   "execution_count": 461,
   "id": "d4028891",
   "metadata": {},
   "outputs": [],
   "source": [
    "seriea_BVB = pd.read_csv(\"Group-B-v-Group-B-Cluster-Averages.csv\")\n",
    "seriea_BVB = seriea_BVB[['HomeTeam','AwayTeam','FTHG','FTAG']]\n",
    "seriea_BVB = seriea_BVB.rename(columns={'FTHG': 'HomeGoals', 'FTAG': 'AwayGoals'})"
   ]
  },
  {
   "cell_type": "code",
   "execution_count": 462,
   "id": "0801928f",
   "metadata": {},
   "outputs": [],
   "source": [
    "goal_model_data = pd.concat([seriea_BVB[['HomeTeam','AwayTeam','HomeGoals']].assign(home=1).rename(\n",
    "            columns={'HomeTeam':'team', 'AwayTeam':'opponent','HomeGoals':'goals'}),\n",
    "           seriea_BVB[['AwayTeam','HomeTeam','AwayGoals']].assign(home=0).rename(\n",
    "            columns={'AwayTeam':'team', 'HomeTeam':'opponent','AwayGoals':'goals'})])\n",
    "\n",
    "poisson_model = smf.glm(formula=\"goals ~ home + team + opponent\", data=goal_model_data, \n",
    "                        family=sm.families.Poisson()).fit()\n",
    "\n",
    "def simulate_match(foot_model, homeTeam, awayTeam, max_goals=10):\n",
    "    home_goals_avg = foot_model.predict(pd.DataFrame(data={'team': homeTeam, \n",
    "                                                            'opponent': awayTeam,'home':1},\n",
    "                                                      index=[1])).values[0]\n",
    "    away_goals_avg = foot_model.predict(pd.DataFrame(data={'team': awayTeam, \n",
    "                                                            'opponent': homeTeam,'home':0},\n",
    "                                                      index=[1])).values[0]\n",
    "    team_pred = [[poisson.pmf(i, team_avg) for i in range(0, max_goals+1)] for team_avg in [home_goals_avg, away_goals_avg]]\n",
    "    return(np.outer(np.array(team_pred[0]), np.array(team_pred[1])))"
   ]
  },
  {
   "cell_type": "code",
   "execution_count": 463,
   "id": "76ae91fe",
   "metadata": {},
   "outputs": [],
   "source": [
    "BolognapointsAB=0\n",
    "EmpolipointsAB=0\n",
    "FiorentinapointsAB=0\n",
    "VeronapointsAB=0\n",
    "SalernitanapointsAB=0\n",
    "FrosinonepointsAB=0\n",
    "SassuolopointsAB=0\n",
    "CagliaripointsAB=0\n",
    "TorinopointsAB=0\n",
    "UdinesepointsAB=0\n",
    "GenoapointsAB=0\n",
    "LeccepointsAB=0\n",
    "MonzapointsAB=0\n",
    "\n",
    "Bolognagames=0\n",
    "Empoligames=0\n",
    "Fiorentinagames=0\n",
    "Veronagames=0\n",
    "Salernitanagames=0\n",
    "Frosinonegames=0\n",
    "Sassuologames=0\n",
    "Cagliarigames=0\n",
    "Torinogames=0\n",
    "Udinesegames=0\n",
    "Genoagames=0\n",
    "Leccegames=0\n",
    "Monzagames=0\n",
    "\n",
    "SerieAteams=['Bologna','Empoli','Fiorentina','Verona','Salernitana','Frosinone',\n",
    "             'Sassuolo','Cagliari','Torino','Udinese','Genoa','Lecce','Monza']\n",
    "SerieApoints=[BolognapointsAB,EmpolipointsAB,FiorentinapointsAB,VeronapointsAB,SalernitanapointsAB,FrosinonepointsAB,\n",
    "            SassuolopointsAB,CagliaripointsAB,TorinopointsAB,UdinesepointsAB,GenoapointsAB,LeccepointsAB,MonzapointsAB]\n",
    "SerieAgames=[Bolognagames,Empoligames,             \n",
    "             Fiorentinagames,Veronagames,Salernitanagames,Frosinonegames,Sassuologames,Cagliarigames,Torinogames,\n",
    "             Udinesegames,Genoagames,Leccegames,Monzagames]\n",
    "for i in range(0,13):\n",
    "    for j in range(0,13):\n",
    "        if (i!=j):\n",
    "            matchvalue=random.uniform(0,1)\n",
    "            matchsim = simulate_match(poisson_model, SerieAteams[i], SerieAteams[j], max_goals=10)\n",
    "            homewinpercent = np.sum(np.tril(matchsim, -1))\n",
    "            drawpercent=np.sum(np.diag(matchsim))\n",
    "            awaywinpercent=np.sum(np.triu(matchsim, 1))\n",
    "            secondbound=homewinpercent+drawpercent\n",
    "            if matchvalue<homewinpercent:\n",
    "                SerieApoints[i]+=3\n",
    "                SerieAgames[i]+=1\n",
    "                SerieAgames[j]+=1\n",
    "            elif matchvalue<secondbound:\n",
    "                SerieApoints[i]+=1\n",
    "                SerieApoints[j]+=1\n",
    "                SerieAgames[i]+=1\n",
    "                SerieAgames[j]+=1\n",
    "            else:\n",
    "                SerieApoints[j]+=3\n",
    "                SerieAgames[i]+=1\n",
    "                SerieAgames[j]+=1\n",
    "            BolognapointsAB=SerieApoints[0]\n",
    "            EmpolipointsAB=SerieApoints[1]\n",
    "            FiorentinapointsAB=SerieApoints[2]\n",
    "            VeronapointsAB=SerieApoints[3]\n",
    "            SalernitanapointsAB=SerieApoints[4]\n",
    "            FrosinonepointsAB=SerieApoints[5]\n",
    "            SassuolopointsAB=SerieApoints[6]\n",
    "            CagliaripointsAB=SerieApoints[7]\n",
    "            TorinopointsAB=SerieApoints[8]\n",
    "            UdinesepointsAB=SerieApoints[9]\n",
    "            GenoapointsAB=SerieApoints[10]\n",
    "            LeccepointsAB=SerieApoints[11]\n",
    "            MonzapointsAB=SerieApoints[12]\n",
    "            \n",
    "            Bolognagames=SerieAgames[0]\n",
    "            Empoligames=SerieAgames[1]\n",
    "            Fiorentinagames=SerieAgames[2]\n",
    "            Veronagames=SerieAgames[3]\n",
    "            Salernitanagames=SerieAgames[4]\n",
    "            Frosinonegames=SerieAgames[5]\n",
    "            Sassuologames=SerieAgames[6]\n",
    "            Cagliarigames=SerieAgames[7]\n",
    "            Torinogames=SerieAgames[8]\n",
    "            Udinesegames=SerieAgames[9]\n",
    "            Genoagames=SerieAgames[10]\n",
    "            Leccegames=SerieAgames[11]\n",
    "            Monzagames=SerieAgames[12]\n",
    "            \n",
    "            SerieAstandingpointsBB=[BolognapointsAB,EmpolipointsAB,FiorentinapointsAB,VeronapointsAB,SalernitanapointsAB,\n",
    "                                    FrosinonepointsAB,SassuolopointsAB,CagliaripointsAB,TorinopointsAB,UdinesepointsAB,\n",
    "                                    GenoapointsAB,LeccepointsAB,MonzapointsAB]\n",
    "            SerieAstandingteamsBB=['Bologna','Empoli','Fiorentina','Verona','Salernitana','Frosinone'\n",
    "                                   ,'Sassuolo','Cagliari','Torino','Udinese','Genoa','Lecce','Monza']\n",
    "            SerieAstandinggames=[Bolognagames,Empoligames,             \n",
    "             Fiorentinagames,Veronagames,Salernitanagames,Frosinonegames,Sassuologames,Cagliarigames,Torinogames,\n",
    "             Udinesegames,Genoagames,Leccegames,Monzagames]"
   ]
  },
  {
   "cell_type": "code",
   "execution_count": 464,
   "id": "6e4bcbef",
   "metadata": {},
   "outputs": [
    {
     "name": "stdout",
     "output_type": "stream",
     "text": [
      "[24, 24, 24, 24, 24, 24, 24, 24, 24, 24, 24, 24, 24]\n"
     ]
    }
   ],
   "source": [
    "print(SerieAstandinggames)"
   ]
  },
  {
   "cell_type": "markdown",
   "id": "56030ae9",
   "metadata": {},
   "source": [
    "The 13 teams here are all Group B teams. Each Group B team plays every other Group B teams home and away for \n",
    "(2X12)=24 games each."
   ]
  },
  {
   "cell_type": "code",
   "execution_count": 465,
   "id": "e91e7b82",
   "metadata": {},
   "outputs": [
    {
     "name": "stdout",
     "output_type": "stream",
     "text": [
      "[35, 36, 37, 38, 32, 34, 38, 27, 42, 36, 19, 27, 27]\n"
     ]
    }
   ],
   "source": [
    "print(SerieAstandingpointsBB)"
   ]
  },
  {
   "cell_type": "code",
   "execution_count": 466,
   "id": "e5c7ce42",
   "metadata": {},
   "outputs": [],
   "source": [
    "AtalantapointsAA=0\n",
    "InterpointsAA=0\n",
    "JuventuspointsAA=0\n",
    "LaziopointsAA=0\n",
    "MilanpointsAA=0\n",
    "NapolipointsAA=0\n",
    "RomapointsAA=0\n",
    "SerieAstandingpointsBB2=[AtalantapointsAA,InterpointsAA,JuventuspointsAA,LaziopointsAA,MilanpointsAA,NapolipointsAA,\n",
    "                         RomapointsAA]\n",
    "SerieAstandingpointsBB_third=SerieAstandingpointsBB2+SerieAstandingpointsBB\n",
    "SerieAstandingteamsBB2=['Atalanta','Inter','Juventus','Lazio','Milan','Napoli','Roma']\n",
    "SerieAstandingteamsBB_third=SerieAstandingteamsBB2+SerieAstandingteamsBB"
   ]
  },
  {
   "cell_type": "markdown",
   "id": "4e6bbb9c",
   "metadata": {},
   "source": [
    "Below I am adding up all of the three lists together from the 3 models."
   ]
  },
  {
   "cell_type": "code",
   "execution_count": 467,
   "id": "a5f8346b",
   "metadata": {},
   "outputs": [],
   "source": [
    "SerieAstandingpoints_final = list(map(sum,zip(SerieAstandingpointsAA_first,SerieAstandingpointsAB_second,SerieAstandingpointsBB_third)))\n",
    "SerieAstandingteams_final=SerieAstandingteamsAB"
   ]
  },
  {
   "cell_type": "code",
   "execution_count": 468,
   "id": "e2a287a2",
   "metadata": {},
   "outputs": [
    {
     "name": "stdout",
     "output_type": "stream",
     "text": [
      "[88, 81, 79, 72, 68, 64, 62, 49, 48, 48, 47, 46, 46, 44, 42, 42, 39, 37, 30, 24]\n",
      "['Inter Milan', 'Napoli', 'Juventus', 'AC Milan', 'Atalanta', 'Lazio', 'Roma', 'Monza', 'Sassuolo', 'Fiorentina', 'Bologna', 'Verona', 'Cagliari', 'Frosinone', 'Empoli', 'Salernitana', 'Udinese', 'Genoa', 'Torino', 'Lecce']\n"
     ]
    }
   ],
   "source": [
    "SerieAstandingpoints_final, SerieAstandingteams_final = zip(*sorted(zip(SerieAstandingpoints_final, SerieAstandingteams_final)))\n",
    "SerieAstandingpoints_final, SerieAstandingteams_final = zip(*sorted(zip(SerieAstandingpoints_final, SerieAstandingteams_final)))\n",
    "result1=list(reversed(SerieAstandingpoints_final))\n",
    "result2=list(reversed(SerieAstandingteamsAB))\n",
    "MaxValue=max(SerieAstandingpoints_final)\n",
    "print(result1)\n",
    "print(result2)"
   ]
  }
 ],
 "metadata": {
  "kernelspec": {
   "display_name": "Python 3 (ipykernel)",
   "language": "python",
   "name": "python3"
  },
  "language_info": {
   "codemirror_mode": {
    "name": "ipython",
    "version": 3
   },
   "file_extension": ".py",
   "mimetype": "text/x-python",
   "name": "python",
   "nbconvert_exporter": "python",
   "pygments_lexer": "ipython3",
   "version": "3.9.13"
  }
 },
 "nbformat": 4,
 "nbformat_minor": 5
}
